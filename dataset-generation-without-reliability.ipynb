{
 "cells": [
  {
   "cell_type": "code",
   "execution_count": 1,
   "id": "9b625a3e",
   "metadata": {},
   "outputs": [
    {
     "name": "stdout",
     "output_type": "stream",
     "text": [
      "Synthetic data generated and exported successfully.\n"
     ]
    }
   ],
   "source": [
    "import pandas as pd\n",
    "import numpy as np\n",
    "from datetime import datetime, timedelta\n",
    "\n",
    "# Define vehicle brands and models\n",
    "vehicle_brands = ['Toyota', 'Honda', 'Ford', 'Chevrolet', 'Volkswagen', 'BMW', 'Mercedes-Benz', 'Audi', 'Nissan', 'Hyundai']\n",
    "vehicle_models = {\n",
    "    'Toyota': ['Camry', 'Corolla', 'Rav4', 'Prius'],\n",
    "    'Honda': ['Accord', 'Civic', 'CR-V', 'Pilot'],\n",
    "    'Ford': ['F-150', 'Escape', 'Focus', 'Explorer'],\n",
    "    'Chevrolet': ['Silverado', 'Equinox', 'Malibu', 'Traverse'],\n",
    "    'Volkswagen': ['Jetta', 'Passat', 'Tiguan', 'Atlas'],\n",
    "    'BMW': ['3 Series', '5 Series', 'X3', 'X5'],\n",
    "    'Mercedes-Benz': ['C-Class', 'E-Class', 'GLC', 'GLE'],\n",
    "    'Audi': ['A4', 'A6', 'Q5', 'Q7'],\n",
    "    'Nissan': ['Altima', 'Rogue', 'Sentra', 'Pathfinder'],\n",
    "    'Hyundai': ['Elantra', 'Tucson', 'Santa Fe', 'Sonata']\n",
    "}\n",
    "\n",
    "# Define service/repair types and their impact on reliability\n",
    "service_types = {\n",
    "    'Transmission Diagnostics/Repair/Replacement': 'High',\n",
    "    'Engine Diagnostics/Repair/Replacement': 'High',\n",
    "    'Multiple Unscheduled Repairs': 'High',\n",
    "    'Electrical System Repairs': 'High',\n",
    "    'Suspension System Repairs': 'Moderate',\n",
    "    'Brake System Repairs': 'Moderate',\n",
    "    'Cooling System Repairs': 'Moderate',\n",
    "    'Routine Maintenance Services': 'Low',\n",
    "    'Wear-and-Tear Replacements': 'Low'\n",
    "}\n",
    "\n",
    "def generate_synthetic_data(num_records):\n",
    "    data = []\n",
    "    for _ in range(num_records):\n",
    "        # Randomly select vehicle brand and model\n",
    "        brand = np.random.choice(vehicle_brands)\n",
    "        model = np.random.choice(vehicle_models[brand])\n",
    "        \n",
    "        # Randomly select year of manufacture between 2010 and 2020\n",
    "        year_of_manufacture = np.random.randint(2010, 2021)\n",
    "        \n",
    "        # Generate mileage based on vehicle age (whole number)\n",
    "        current_year = datetime.now().year\n",
    "        age = current_year - year_of_manufacture\n",
    "        mileage = np.random.randint(low=age*500, high=(age+1)*500)  # Assume an average of 15,000 miles per year\n",
    "        \n",
    "        # Randomly select type of service/repair\n",
    "        service_type = np.random.choice(list(service_types.keys()))\n",
    "        \n",
    "        # Generate service date within a reasonable range\n",
    "        service_date = datetime(year_of_manufacture, 1, 1) + timedelta(days=np.random.randint(0, 365*age))\n",
    "        \n",
    "        reliability = np.random.randint(0,2)\n",
    "        \n",
    "        scheduled_or_unscheduled = np.random.randint(0,2)\n",
    "        \n",
    "        data.append([brand, model, year_of_manufacture, mileage, service_type, service_date , scheduled_or_unscheduled , reliability])\n",
    "    \n",
    "    df = pd.DataFrame(data, columns=['Vehicle_Brand', 'Vehicle_Model', 'Year_of_Manufacture', 'Mileage', \n",
    "                                     'Type_of_Service', 'Service_Date' , 'scheduled' , 'reliability'])\n",
    "    return df\n",
    "\n",
    "synthetic_data = generate_synthetic_data(num_records=1000)\n",
    "\n",
    "synthetic_data.to_csv('synthetic_vehicle_reliability_data.csv', index=False)\n",
    "\n",
    "print(\"Synthetic data generated and exported successfully.\")\n"
   ]
  },
  {
   "cell_type": "code",
   "execution_count": null,
   "id": "e2fb9ecf",
   "metadata": {},
   "outputs": [],
   "source": []
  }
 ],
 "metadata": {
  "kernelspec": {
   "display_name": "Python 3 (ipykernel)",
   "language": "python",
   "name": "python3"
  },
  "language_info": {
   "codemirror_mode": {
    "name": "ipython",
    "version": 3
   },
   "file_extension": ".py",
   "mimetype": "text/x-python",
   "name": "python",
   "nbconvert_exporter": "python",
   "pygments_lexer": "ipython3",
   "version": "3.11.4"
  }
 },
 "nbformat": 4,
 "nbformat_minor": 5
}
