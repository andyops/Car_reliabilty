{
 "cells": [
  {
   "cell_type": "code",
   "execution_count": 1,
   "id": "bec34b7d",
   "metadata": {
    "ExecuteTime": {
     "end_time": "2024-01-22T18:01:36.629484586Z",
     "start_time": "2024-01-22T18:01:35.559365577Z"
    }
   },
   "outputs": [],
   "source": [
    "import pandas as pd\n",
    "import ISLP \n",
    "import numpy as np"
   ]
  },
  {
   "cell_type": "code",
   "execution_count": 2,
   "id": "f5994335",
   "metadata": {
    "ExecuteTime": {
     "end_time": "2024-01-22T18:01:37.344688144Z",
     "start_time": "2024-01-22T18:01:36.672137770Z"
    }
   },
   "outputs": [],
   "source": [
    "data = pd.read_csv('vehicle_claims_labeled (1).csv')"
   ]
  },
  {
   "cell_type": "code",
   "execution_count": 3,
   "id": "2521b00f",
   "metadata": {
    "ExecuteTime": {
     "end_time": "2024-01-22T18:01:37.535095071Z",
     "start_time": "2024-01-22T18:01:37.374079119Z"
    }
   },
   "outputs": [
    {
     "data": {
      "text/plain": "            Maker  Genmodel  Genmodel_ID  Adv_year  Adv_month   Color  \\\n0         Bentley    Arnage         10_1      2018          4  Silver   \n1         Bentley    Arnage         10_1      2018          6    Grey   \n2         Bentley    Arnage         10_1      2017         11    Blue   \n3         Bentley    Arnage         10_1      2018          4   Green   \n4         Bentley    Arnage         10_1      2017         11    Grey   \n...           ...       ...          ...       ...        ...     ...   \n268250  Westfield     Sport         97_1      2018          5  Yellow   \n268251  Westfield     Sport         97_1      2018          5  Yellow   \n268252      Zenos       E10         99_1      2018          3     Red   \n268253      Zenos       E10         99_1      2018          3   Green   \n268254      Zenos       E10         99_1      2018          5    Grey   \n\n        Reg_year     Bodytype  Runned_Miles Engin_size  ...  \\\n0         2000.0       Saloon         60000       6.8L  ...   \n1         2002.0       Saloon         44000       6.8L  ...   \n2         2002.0       Saloon         55000       6.8L  ...   \n3         2003.0       Saloon         14000       6.8L  ...   \n4         2003.0       Saloon         61652       6.8L  ...   \n...          ...          ...           ...        ...  ...   \n268250    2006.0  Convertible          1800       2.2L  ...   \n268251    2006.0  Convertible          2009     999.0L  ...   \n268252    2016.0  Convertible             6       2.0L  ...   \n268253    2016.0  Convertible          1538       2.0L  ...   \n268254    2016.0  Convertible           500       2.3L  ...   \n\n                         issue issue_id  Adv_day  breakdown_date  \\\n0          Starter Motor Issue        0       19      2018-04-19   \n1             Radiator Leaking        0       15      2018-06-15   \n2       Steering Wheel Shaking        0       10      2017-11-10   \n3             Electrical Issue        4       14      2018-04-14   \n4             Windscreen Crack        0        6      2017-11-06   \n...                        ...      ...      ...             ...   \n268250     Starter Motor Issue        0       24      2018-05-24   \n268251        Electrical Issue        5        3      2018-05-03   \n268252        Windscreen Crack        0       14      2018-03-14   \n268253        Windscreen Crack        0       10      2018-03-10   \n268254     Excessive Emissions        0       14      2018-05-14   \n\n        repair_complexity repair_cost  repair_hours  Label category_anomaly  \\\n0                       3    395.0000           9.0      0                0   \n1                       3    695.0000           6.0      0                0   \n2                       3     89.9990           3.0      0                0   \n3                       3    224.8440           6.0      0                0   \n4                       3     75.9330           3.0      0                0   \n...                   ...         ...           ...    ...              ...   \n268250                  2    207.5000           6.0      1                0   \n268251                  2    127.9950           6.0      1                1   \n268252                  2     56.7700           2.0      1                0   \n268253                  2     60.9700           2.0      1                0   \n268254                  2     66.9955           2.0      1                0   \n\n        repair_date  \n0        2018-04-21  \n1        2018-06-16  \n2        2017-11-10  \n3        2018-04-15  \n4        2017-11-06  \n...             ...  \n268250   2018-05-25  \n268251   2018-05-04  \n268252   2018-03-14  \n268253   2018-03-10  \n268254   2018-05-14  \n\n[268255 rows x 25 columns]",
      "text/html": "<div>\n<style scoped>\n    .dataframe tbody tr th:only-of-type {\n        vertical-align: middle;\n    }\n\n    .dataframe tbody tr th {\n        vertical-align: top;\n    }\n\n    .dataframe thead th {\n        text-align: right;\n    }\n</style>\n<table border=\"1\" class=\"dataframe\">\n  <thead>\n    <tr style=\"text-align: right;\">\n      <th></th>\n      <th>Maker</th>\n      <th>Genmodel</th>\n      <th>Genmodel_ID</th>\n      <th>Adv_year</th>\n      <th>Adv_month</th>\n      <th>Color</th>\n      <th>Reg_year</th>\n      <th>Bodytype</th>\n      <th>Runned_Miles</th>\n      <th>Engin_size</th>\n      <th>...</th>\n      <th>issue</th>\n      <th>issue_id</th>\n      <th>Adv_day</th>\n      <th>breakdown_date</th>\n      <th>repair_complexity</th>\n      <th>repair_cost</th>\n      <th>repair_hours</th>\n      <th>Label</th>\n      <th>category_anomaly</th>\n      <th>repair_date</th>\n    </tr>\n  </thead>\n  <tbody>\n    <tr>\n      <th>0</th>\n      <td>Bentley</td>\n      <td>Arnage</td>\n      <td>10_1</td>\n      <td>2018</td>\n      <td>4</td>\n      <td>Silver</td>\n      <td>2000.0</td>\n      <td>Saloon</td>\n      <td>60000</td>\n      <td>6.8L</td>\n      <td>...</td>\n      <td>Starter Motor Issue</td>\n      <td>0</td>\n      <td>19</td>\n      <td>2018-04-19</td>\n      <td>3</td>\n      <td>395.0000</td>\n      <td>9.0</td>\n      <td>0</td>\n      <td>0</td>\n      <td>2018-04-21</td>\n    </tr>\n    <tr>\n      <th>1</th>\n      <td>Bentley</td>\n      <td>Arnage</td>\n      <td>10_1</td>\n      <td>2018</td>\n      <td>6</td>\n      <td>Grey</td>\n      <td>2002.0</td>\n      <td>Saloon</td>\n      <td>44000</td>\n      <td>6.8L</td>\n      <td>...</td>\n      <td>Radiator Leaking</td>\n      <td>0</td>\n      <td>15</td>\n      <td>2018-06-15</td>\n      <td>3</td>\n      <td>695.0000</td>\n      <td>6.0</td>\n      <td>0</td>\n      <td>0</td>\n      <td>2018-06-16</td>\n    </tr>\n    <tr>\n      <th>2</th>\n      <td>Bentley</td>\n      <td>Arnage</td>\n      <td>10_1</td>\n      <td>2017</td>\n      <td>11</td>\n      <td>Blue</td>\n      <td>2002.0</td>\n      <td>Saloon</td>\n      <td>55000</td>\n      <td>6.8L</td>\n      <td>...</td>\n      <td>Steering Wheel Shaking</td>\n      <td>0</td>\n      <td>10</td>\n      <td>2017-11-10</td>\n      <td>3</td>\n      <td>89.9990</td>\n      <td>3.0</td>\n      <td>0</td>\n      <td>0</td>\n      <td>2017-11-10</td>\n    </tr>\n    <tr>\n      <th>3</th>\n      <td>Bentley</td>\n      <td>Arnage</td>\n      <td>10_1</td>\n      <td>2018</td>\n      <td>4</td>\n      <td>Green</td>\n      <td>2003.0</td>\n      <td>Saloon</td>\n      <td>14000</td>\n      <td>6.8L</td>\n      <td>...</td>\n      <td>Electrical Issue</td>\n      <td>4</td>\n      <td>14</td>\n      <td>2018-04-14</td>\n      <td>3</td>\n      <td>224.8440</td>\n      <td>6.0</td>\n      <td>0</td>\n      <td>0</td>\n      <td>2018-04-15</td>\n    </tr>\n    <tr>\n      <th>4</th>\n      <td>Bentley</td>\n      <td>Arnage</td>\n      <td>10_1</td>\n      <td>2017</td>\n      <td>11</td>\n      <td>Grey</td>\n      <td>2003.0</td>\n      <td>Saloon</td>\n      <td>61652</td>\n      <td>6.8L</td>\n      <td>...</td>\n      <td>Windscreen Crack</td>\n      <td>0</td>\n      <td>6</td>\n      <td>2017-11-06</td>\n      <td>3</td>\n      <td>75.9330</td>\n      <td>3.0</td>\n      <td>0</td>\n      <td>0</td>\n      <td>2017-11-06</td>\n    </tr>\n    <tr>\n      <th>...</th>\n      <td>...</td>\n      <td>...</td>\n      <td>...</td>\n      <td>...</td>\n      <td>...</td>\n      <td>...</td>\n      <td>...</td>\n      <td>...</td>\n      <td>...</td>\n      <td>...</td>\n      <td>...</td>\n      <td>...</td>\n      <td>...</td>\n      <td>...</td>\n      <td>...</td>\n      <td>...</td>\n      <td>...</td>\n      <td>...</td>\n      <td>...</td>\n      <td>...</td>\n      <td>...</td>\n    </tr>\n    <tr>\n      <th>268250</th>\n      <td>Westfield</td>\n      <td>Sport</td>\n      <td>97_1</td>\n      <td>2018</td>\n      <td>5</td>\n      <td>Yellow</td>\n      <td>2006.0</td>\n      <td>Convertible</td>\n      <td>1800</td>\n      <td>2.2L</td>\n      <td>...</td>\n      <td>Starter Motor Issue</td>\n      <td>0</td>\n      <td>24</td>\n      <td>2018-05-24</td>\n      <td>2</td>\n      <td>207.5000</td>\n      <td>6.0</td>\n      <td>1</td>\n      <td>0</td>\n      <td>2018-05-25</td>\n    </tr>\n    <tr>\n      <th>268251</th>\n      <td>Westfield</td>\n      <td>Sport</td>\n      <td>97_1</td>\n      <td>2018</td>\n      <td>5</td>\n      <td>Yellow</td>\n      <td>2006.0</td>\n      <td>Convertible</td>\n      <td>2009</td>\n      <td>999.0L</td>\n      <td>...</td>\n      <td>Electrical Issue</td>\n      <td>5</td>\n      <td>3</td>\n      <td>2018-05-03</td>\n      <td>2</td>\n      <td>127.9950</td>\n      <td>6.0</td>\n      <td>1</td>\n      <td>1</td>\n      <td>2018-05-04</td>\n    </tr>\n    <tr>\n      <th>268252</th>\n      <td>Zenos</td>\n      <td>E10</td>\n      <td>99_1</td>\n      <td>2018</td>\n      <td>3</td>\n      <td>Red</td>\n      <td>2016.0</td>\n      <td>Convertible</td>\n      <td>6</td>\n      <td>2.0L</td>\n      <td>...</td>\n      <td>Windscreen Crack</td>\n      <td>0</td>\n      <td>14</td>\n      <td>2018-03-14</td>\n      <td>2</td>\n      <td>56.7700</td>\n      <td>2.0</td>\n      <td>1</td>\n      <td>0</td>\n      <td>2018-03-14</td>\n    </tr>\n    <tr>\n      <th>268253</th>\n      <td>Zenos</td>\n      <td>E10</td>\n      <td>99_1</td>\n      <td>2018</td>\n      <td>3</td>\n      <td>Green</td>\n      <td>2016.0</td>\n      <td>Convertible</td>\n      <td>1538</td>\n      <td>2.0L</td>\n      <td>...</td>\n      <td>Windscreen Crack</td>\n      <td>0</td>\n      <td>10</td>\n      <td>2018-03-10</td>\n      <td>2</td>\n      <td>60.9700</td>\n      <td>2.0</td>\n      <td>1</td>\n      <td>0</td>\n      <td>2018-03-10</td>\n    </tr>\n    <tr>\n      <th>268254</th>\n      <td>Zenos</td>\n      <td>E10</td>\n      <td>99_1</td>\n      <td>2018</td>\n      <td>5</td>\n      <td>Grey</td>\n      <td>2016.0</td>\n      <td>Convertible</td>\n      <td>500</td>\n      <td>2.3L</td>\n      <td>...</td>\n      <td>Excessive Emissions</td>\n      <td>0</td>\n      <td>14</td>\n      <td>2018-05-14</td>\n      <td>2</td>\n      <td>66.9955</td>\n      <td>2.0</td>\n      <td>1</td>\n      <td>0</td>\n      <td>2018-05-14</td>\n    </tr>\n  </tbody>\n</table>\n<p>268255 rows × 25 columns</p>\n</div>"
     },
     "execution_count": 3,
     "metadata": {},
     "output_type": "execute_result"
    }
   ],
   "source": [
    "data"
   ]
  },
  {
   "cell_type": "code",
   "outputs": [
    {
     "data": {
      "text/plain": "Corsa             5569\nFocus             5179\nFiesta            4761\nJuke              3427\nX5                3372\n                  ... \nGS 430               1\nFairlady             1\nGS Unspecified       1\nWish                 1\nAMG                  1\nName:  Genmodel, Length: 896, dtype: int64"
     },
     "execution_count": 4,
     "metadata": {},
     "output_type": "execute_result"
    }
   ],
   "source": [
    "data[' Genmodel'].value_counts()"
   ],
   "metadata": {
    "collapsed": false,
    "ExecuteTime": {
     "end_time": "2024-01-22T18:01:37.548241583Z",
     "start_time": "2024-01-22T18:01:37.540756190Z"
    }
   },
   "id": "4a363d5c15230e12",
   "execution_count": 4
  },
  {
   "cell_type": "code",
   "outputs": [
    {
     "data": {
      "text/plain": "Ford          26937\nAudi          22521\nVauxhall      20158\nVolkswagen    17999\nBMW           17194\n              ...  \nBrooke            1\nMEV               1\nGrinnall          1\nKoenigsegg        1\nPilgrim           1\nName: Maker, Length: 88, dtype: int64"
     },
     "execution_count": 5,
     "metadata": {},
     "output_type": "execute_result"
    }
   ],
   "source": [
    "data['Maker'].value_counts()"
   ],
   "metadata": {
    "collapsed": false,
    "ExecuteTime": {
     "end_time": "2024-01-22T18:01:37.722886120Z",
     "start_time": "2024-01-22T18:01:37.558766808Z"
    }
   },
   "id": "df91b1b4eb144b86",
   "execution_count": 5
  },
  {
   "cell_type": "code",
   "outputs": [
    {
     "data": {
      "text/plain": "Brake Pads Worn           18114\nTransmission Issue        18087\nFlat Tyres                18020\nEngine Issue              17981\nSensor Malfunction        17951\nAlternator Failing        17912\nSteering Wheel Shaking    17911\nGear Box Issue            17907\nWindscreen Crack          17833\nRadiator Leaking          17828\nWarning Light             17803\nTyre Alignment            17800\nStarter Motor Issue       17796\nElectrical Issue          17712\nExcessive Emissions       17600\nName: issue, dtype: int64"
     },
     "execution_count": 6,
     "metadata": {},
     "output_type": "execute_result"
    }
   ],
   "source": [
    "data['issue'].value_counts()"
   ],
   "metadata": {
    "collapsed": false,
    "ExecuteTime": {
     "end_time": "2024-01-22T18:01:37.725473501Z",
     "start_time": "2024-01-22T18:01:37.601908780Z"
    }
   },
   "id": "8aa1e4ab35cf6e63",
   "execution_count": 6
  },
  {
   "cell_type": "code",
   "outputs": [],
   "source": [
    "# remove rows with label =1 \n",
    "data = data[data['Label'] != 1]"
   ],
   "metadata": {
    "collapsed": false,
    "ExecuteTime": {
     "end_time": "2024-01-22T18:01:37.782885512Z",
     "start_time": "2024-01-22T18:01:37.602884689Z"
    }
   },
   "id": "ba0414f0a2fdb9ee",
   "execution_count": 7
  },
  {
   "cell_type": "code",
   "outputs": [
    {
     "data": {
      "text/plain": "          Maker  Genmodel  Genmodel_ID  Adv_year  Adv_month   Color  Reg_year  \\\n0       Bentley    Arnage         10_1      2018          4  Silver    2000.0   \n1       Bentley    Arnage         10_1      2018          6    Grey    2002.0   \n2       Bentley    Arnage         10_1      2017         11    Blue    2002.0   \n3       Bentley    Arnage         10_1      2018          4   Green    2003.0   \n4       Bentley    Arnage         10_1      2017         11    Grey    2003.0   \n...         ...       ...          ...       ...        ...     ...       ...   \n268244    Volvo       V50         96_9      2018          4  Silver    2007.0   \n268245    Volvo       V50         96_9      2018          7    Grey    2008.0   \n268246    Volvo       V50         96_9      2018          8    Blue    2007.0   \n268247    Volvo       V50         96_9      2018          5  Silver    2009.0   \n268248    Volvo       V50         96_9      2018          5  Silver    2004.0   \n\n       Bodytype  Runned_Miles Engin_size  ...                   issue  \\\n0        Saloon         60000       6.8L  ...     Starter Motor Issue   \n1        Saloon         44000       6.8L  ...        Radiator Leaking   \n2        Saloon         55000       6.8L  ...  Steering Wheel Shaking   \n3        Saloon         14000       6.8L  ...        Electrical Issue   \n4        Saloon         61652       6.8L  ...        Windscreen Crack   \n...         ...           ...        ...  ...                     ...   \n268244   Estate         88452       2.0L  ...            Engine Issue   \n268245   Estate        140000       2.0L  ...      Alternator Failing   \n268246   Estate        158000       2.4L  ...            Engine Issue   \n268247   Estate         94000       2.4L  ...         Brake Pads Worn   \n268248   Estate        111000       2.4L  ...     Excessive Emissions   \n\n       issue_id  Adv_day  breakdown_date  repair_complexity repair_cost  \\\n0             0       19      2018-04-19                  3    395.0000   \n1             0       15      2018-06-15                  3    695.0000   \n2             0       10      2017-11-10                  3     89.9990   \n3             4       14      2018-04-14                  3    224.8440   \n4             0        6      2017-11-06                  3     75.9330   \n...         ...      ...             ...                ...         ...   \n268244        3       25      2018-04-25                  3   1065.0000   \n268245        0        4      2018-07-04                  3    183.7000   \n268246        2       25      2018-08-25                  3   1408.5000   \n268247        0       22      2018-05-22                  3    122.1250   \n268248        0       26      2018-05-26                  3     62.6055   \n\n        repair_hours  Label category_anomaly  repair_date  \n0                9.0      0                0   2018-04-21  \n1                6.0      0                0   2018-06-16  \n2                3.0      0                0   2017-11-10  \n3                6.0      0                0   2018-04-15  \n4                3.0      0                0   2017-11-06  \n...              ...    ...              ...          ...  \n268244          36.0      0                0   2018-05-04  \n268245           6.0      0                0   2018-07-05  \n268246          48.0      0                0   2018-09-06  \n268247           6.0      0                0   2018-05-23  \n268248           3.0      0                0   2018-05-26  \n\n[211506 rows x 25 columns]",
      "text/html": "<div>\n<style scoped>\n    .dataframe tbody tr th:only-of-type {\n        vertical-align: middle;\n    }\n\n    .dataframe tbody tr th {\n        vertical-align: top;\n    }\n\n    .dataframe thead th {\n        text-align: right;\n    }\n</style>\n<table border=\"1\" class=\"dataframe\">\n  <thead>\n    <tr style=\"text-align: right;\">\n      <th></th>\n      <th>Maker</th>\n      <th>Genmodel</th>\n      <th>Genmodel_ID</th>\n      <th>Adv_year</th>\n      <th>Adv_month</th>\n      <th>Color</th>\n      <th>Reg_year</th>\n      <th>Bodytype</th>\n      <th>Runned_Miles</th>\n      <th>Engin_size</th>\n      <th>...</th>\n      <th>issue</th>\n      <th>issue_id</th>\n      <th>Adv_day</th>\n      <th>breakdown_date</th>\n      <th>repair_complexity</th>\n      <th>repair_cost</th>\n      <th>repair_hours</th>\n      <th>Label</th>\n      <th>category_anomaly</th>\n      <th>repair_date</th>\n    </tr>\n  </thead>\n  <tbody>\n    <tr>\n      <th>0</th>\n      <td>Bentley</td>\n      <td>Arnage</td>\n      <td>10_1</td>\n      <td>2018</td>\n      <td>4</td>\n      <td>Silver</td>\n      <td>2000.0</td>\n      <td>Saloon</td>\n      <td>60000</td>\n      <td>6.8L</td>\n      <td>...</td>\n      <td>Starter Motor Issue</td>\n      <td>0</td>\n      <td>19</td>\n      <td>2018-04-19</td>\n      <td>3</td>\n      <td>395.0000</td>\n      <td>9.0</td>\n      <td>0</td>\n      <td>0</td>\n      <td>2018-04-21</td>\n    </tr>\n    <tr>\n      <th>1</th>\n      <td>Bentley</td>\n      <td>Arnage</td>\n      <td>10_1</td>\n      <td>2018</td>\n      <td>6</td>\n      <td>Grey</td>\n      <td>2002.0</td>\n      <td>Saloon</td>\n      <td>44000</td>\n      <td>6.8L</td>\n      <td>...</td>\n      <td>Radiator Leaking</td>\n      <td>0</td>\n      <td>15</td>\n      <td>2018-06-15</td>\n      <td>3</td>\n      <td>695.0000</td>\n      <td>6.0</td>\n      <td>0</td>\n      <td>0</td>\n      <td>2018-06-16</td>\n    </tr>\n    <tr>\n      <th>2</th>\n      <td>Bentley</td>\n      <td>Arnage</td>\n      <td>10_1</td>\n      <td>2017</td>\n      <td>11</td>\n      <td>Blue</td>\n      <td>2002.0</td>\n      <td>Saloon</td>\n      <td>55000</td>\n      <td>6.8L</td>\n      <td>...</td>\n      <td>Steering Wheel Shaking</td>\n      <td>0</td>\n      <td>10</td>\n      <td>2017-11-10</td>\n      <td>3</td>\n      <td>89.9990</td>\n      <td>3.0</td>\n      <td>0</td>\n      <td>0</td>\n      <td>2017-11-10</td>\n    </tr>\n    <tr>\n      <th>3</th>\n      <td>Bentley</td>\n      <td>Arnage</td>\n      <td>10_1</td>\n      <td>2018</td>\n      <td>4</td>\n      <td>Green</td>\n      <td>2003.0</td>\n      <td>Saloon</td>\n      <td>14000</td>\n      <td>6.8L</td>\n      <td>...</td>\n      <td>Electrical Issue</td>\n      <td>4</td>\n      <td>14</td>\n      <td>2018-04-14</td>\n      <td>3</td>\n      <td>224.8440</td>\n      <td>6.0</td>\n      <td>0</td>\n      <td>0</td>\n      <td>2018-04-15</td>\n    </tr>\n    <tr>\n      <th>4</th>\n      <td>Bentley</td>\n      <td>Arnage</td>\n      <td>10_1</td>\n      <td>2017</td>\n      <td>11</td>\n      <td>Grey</td>\n      <td>2003.0</td>\n      <td>Saloon</td>\n      <td>61652</td>\n      <td>6.8L</td>\n      <td>...</td>\n      <td>Windscreen Crack</td>\n      <td>0</td>\n      <td>6</td>\n      <td>2017-11-06</td>\n      <td>3</td>\n      <td>75.9330</td>\n      <td>3.0</td>\n      <td>0</td>\n      <td>0</td>\n      <td>2017-11-06</td>\n    </tr>\n    <tr>\n      <th>...</th>\n      <td>...</td>\n      <td>...</td>\n      <td>...</td>\n      <td>...</td>\n      <td>...</td>\n      <td>...</td>\n      <td>...</td>\n      <td>...</td>\n      <td>...</td>\n      <td>...</td>\n      <td>...</td>\n      <td>...</td>\n      <td>...</td>\n      <td>...</td>\n      <td>...</td>\n      <td>...</td>\n      <td>...</td>\n      <td>...</td>\n      <td>...</td>\n      <td>...</td>\n      <td>...</td>\n    </tr>\n    <tr>\n      <th>268244</th>\n      <td>Volvo</td>\n      <td>V50</td>\n      <td>96_9</td>\n      <td>2018</td>\n      <td>4</td>\n      <td>Silver</td>\n      <td>2007.0</td>\n      <td>Estate</td>\n      <td>88452</td>\n      <td>2.0L</td>\n      <td>...</td>\n      <td>Engine Issue</td>\n      <td>3</td>\n      <td>25</td>\n      <td>2018-04-25</td>\n      <td>3</td>\n      <td>1065.0000</td>\n      <td>36.0</td>\n      <td>0</td>\n      <td>0</td>\n      <td>2018-05-04</td>\n    </tr>\n    <tr>\n      <th>268245</th>\n      <td>Volvo</td>\n      <td>V50</td>\n      <td>96_9</td>\n      <td>2018</td>\n      <td>7</td>\n      <td>Grey</td>\n      <td>2008.0</td>\n      <td>Estate</td>\n      <td>140000</td>\n      <td>2.0L</td>\n      <td>...</td>\n      <td>Alternator Failing</td>\n      <td>0</td>\n      <td>4</td>\n      <td>2018-07-04</td>\n      <td>3</td>\n      <td>183.7000</td>\n      <td>6.0</td>\n      <td>0</td>\n      <td>0</td>\n      <td>2018-07-05</td>\n    </tr>\n    <tr>\n      <th>268246</th>\n      <td>Volvo</td>\n      <td>V50</td>\n      <td>96_9</td>\n      <td>2018</td>\n      <td>8</td>\n      <td>Blue</td>\n      <td>2007.0</td>\n      <td>Estate</td>\n      <td>158000</td>\n      <td>2.4L</td>\n      <td>...</td>\n      <td>Engine Issue</td>\n      <td>2</td>\n      <td>25</td>\n      <td>2018-08-25</td>\n      <td>3</td>\n      <td>1408.5000</td>\n      <td>48.0</td>\n      <td>0</td>\n      <td>0</td>\n      <td>2018-09-06</td>\n    </tr>\n    <tr>\n      <th>268247</th>\n      <td>Volvo</td>\n      <td>V50</td>\n      <td>96_9</td>\n      <td>2018</td>\n      <td>5</td>\n      <td>Silver</td>\n      <td>2009.0</td>\n      <td>Estate</td>\n      <td>94000</td>\n      <td>2.4L</td>\n      <td>...</td>\n      <td>Brake Pads Worn</td>\n      <td>0</td>\n      <td>22</td>\n      <td>2018-05-22</td>\n      <td>3</td>\n      <td>122.1250</td>\n      <td>6.0</td>\n      <td>0</td>\n      <td>0</td>\n      <td>2018-05-23</td>\n    </tr>\n    <tr>\n      <th>268248</th>\n      <td>Volvo</td>\n      <td>V50</td>\n      <td>96_9</td>\n      <td>2018</td>\n      <td>5</td>\n      <td>Silver</td>\n      <td>2004.0</td>\n      <td>Estate</td>\n      <td>111000</td>\n      <td>2.4L</td>\n      <td>...</td>\n      <td>Excessive Emissions</td>\n      <td>0</td>\n      <td>26</td>\n      <td>2018-05-26</td>\n      <td>3</td>\n      <td>62.6055</td>\n      <td>3.0</td>\n      <td>0</td>\n      <td>0</td>\n      <td>2018-05-26</td>\n    </tr>\n  </tbody>\n</table>\n<p>211506 rows × 25 columns</p>\n</div>"
     },
     "execution_count": 8,
     "metadata": {},
     "output_type": "execute_result"
    }
   ],
   "source": [
    "data"
   ],
   "metadata": {
    "collapsed": false,
    "ExecuteTime": {
     "end_time": "2024-01-22T18:01:37.854081093Z",
     "start_time": "2024-01-22T18:01:37.649459497Z"
    }
   },
   "id": "cb587818c5173e55",
   "execution_count": 8
  },
  {
   "cell_type": "code",
   "outputs": [
    {
     "data": {
      "text/plain": "Corsa          4834\nFiesta         3953\nFocus          3115\nMondeo         2656\nGolf           2537\n               ... \nSpace Wagon       1\ni                 1\nCougar            1\nAMG               1\nMini              1\nName:  Genmodel, Length: 763, dtype: int64"
     },
     "execution_count": 9,
     "metadata": {},
     "output_type": "execute_result"
    }
   ],
   "source": [
    "data[' Genmodel'].value_counts()"
   ],
   "metadata": {
    "collapsed": false,
    "ExecuteTime": {
     "end_time": "2024-01-22T18:01:37.856376800Z",
     "start_time": "2024-01-22T18:01:37.771594844Z"
    }
   },
   "id": "ad43971af26f10c",
   "execution_count": 9
  },
  {
   "cell_type": "code",
   "outputs": [
    {
     "data": {
      "text/plain": "Ford                          20602\nAudi                          17946\nVauxhall                      16222\nVolkswagen                    13830\nBMW                           12345\n                              ...  \nCadillac                          3\nPerodua                           2\nGMC                               2\nNoble                             1\nLondon Taxis International        1\nName: Maker, Length: 63, dtype: int64"
     },
     "execution_count": 10,
     "metadata": {},
     "output_type": "execute_result"
    }
   ],
   "source": [
    "data['Maker'].value_counts()"
   ],
   "metadata": {
    "collapsed": false,
    "ExecuteTime": {
     "end_time": "2024-01-22T18:01:37.894019828Z",
     "start_time": "2024-01-22T18:01:37.795015163Z"
    }
   },
   "id": "c9ad4ce771d41b71",
   "execution_count": 10
  },
  {
   "cell_type": "code",
   "outputs": [
    {
     "data": {
      "text/plain": "Transmission Issue        14369\nBrake Pads Worn           14264\nFlat Tyres                14152\nEngine Issue              14151\nSteering Wheel Shaking    14150\nRadiator Leaking          14130\nSensor Malfunction        14118\nGear Box Issue            14115\nWarning Light             14106\nTyre Alignment            14070\nStarter Motor Issue       14055\nAlternator Failing        14016\nWindscreen Crack          13993\nElectrical Issue          13957\nExcessive Emissions       13860\nName: issue, dtype: int64"
     },
     "execution_count": 12,
     "metadata": {},
     "output_type": "execute_result"
    }
   ],
   "source": [
    "data['issue'].value_counts()"
   ],
   "metadata": {
    "collapsed": false,
    "ExecuteTime": {
     "end_time": "2024-01-22T18:01:41.073561778Z",
     "start_time": "2024-01-22T18:01:40.408232079Z"
    }
   },
   "id": "8b89fcc8f70b5150",
   "execution_count": 12
  },
  {
   "cell_type": "code",
   "outputs": [],
   "source": [
    "import ucimlrepo"
   ],
   "metadata": {
    "collapsed": false,
    "ExecuteTime": {
     "end_time": "2024-01-22T18:01:53.456185126Z",
     "start_time": "2024-01-22T18:01:53.434869747Z"
    }
   },
   "id": "5d7121bd5a60b20b",
   "execution_count": 13
  },
  {
   "cell_type": "code",
   "outputs": [],
   "source": [
    "from ucimlrepo import fetch_ucirepo\n",
    "\n",
    "automo = fetch_ucirepo('Automobile')"
   ],
   "metadata": {
    "collapsed": false,
    "ExecuteTime": {
     "end_time": "2024-01-22T18:11:47.661920683Z",
     "start_time": "2024-01-22T18:11:45.628336450Z"
    }
   },
   "id": "4feabf24ffa52bc7",
   "execution_count": 27
  },
  {
   "cell_type": "code",
   "outputs": [],
   "source": [
    "auto = pd.DataFrame(automo.data.features , columns = automo.metadata.features)"
   ],
   "metadata": {
    "collapsed": false,
    "ExecuteTime": {
     "end_time": "2024-01-22T18:13:28.524534035Z",
     "start_time": "2024-01-22T18:13:28.510537328Z"
    }
   },
   "id": "c1b32d481ecf8625",
   "execution_count": 32
  },
  {
   "cell_type": "code",
   "outputs": [
    {
     "data": {
      "text/plain": "       price  highway-mpg  city-mpg  peak-rpm  horsepower  compression-ratio  \\\n0    13495.0           27        21    5000.0       111.0                9.0   \n1    16500.0           27        21    5000.0       111.0                9.0   \n2    16500.0           26        19    5000.0       154.0                9.0   \n3    13950.0           30        24    5500.0       102.0               10.0   \n4    17450.0           22        18    5500.0       115.0                8.0   \n..       ...          ...       ...       ...         ...                ...   \n200  16845.0           28        23    5400.0       114.0                9.5   \n201  19045.0           25        19    5300.0       160.0                8.7   \n202  21485.0           23        18    5500.0       134.0                8.8   \n203  22470.0           27        26    4800.0       106.0               23.0   \n204  22625.0           25        19    5400.0       114.0                9.5   \n\n     stroke  bore fuel-system  engine-size  ...  length wheel-base  \\\n0      2.68  3.47        mpfi          130  ...   168.8       88.6   \n1      2.68  3.47        mpfi          130  ...   168.8       88.6   \n2      3.47  2.68        mpfi          152  ...   171.2       94.5   \n3      3.40  3.19        mpfi          109  ...   176.6       99.8   \n4      3.40  3.19        mpfi          136  ...   176.6       99.4   \n..      ...   ...         ...          ...  ...     ...        ...   \n200    3.15  3.78        mpfi          141  ...   188.8      109.1   \n201    3.15  3.78        mpfi          141  ...   188.8      109.1   \n202    2.87  3.58        mpfi          173  ...   188.8      109.1   \n203    3.40  3.01         idi          145  ...   188.8      109.1   \n204    3.15  3.78        mpfi          141  ...   188.8      109.1   \n\n     engine-location  drive-wheels   body-style  num-of-doors  aspiration  \\\n0              front           rwd  convertible           2.0         std   \n1              front           rwd  convertible           2.0         std   \n2              front           rwd    hatchback           2.0         std   \n3              front           fwd        sedan           4.0         std   \n4              front           4wd        sedan           4.0         std   \n..               ...           ...          ...           ...         ...   \n200            front           rwd        sedan           4.0         std   \n201            front           rwd        sedan           4.0       turbo   \n202            front           rwd        sedan           4.0         std   \n203            front           rwd        sedan           4.0       turbo   \n204            front           rwd        sedan           4.0       turbo   \n\n    fuel-type         make normalized-losses  \n0         gas  alfa-romero               NaN  \n1         gas  alfa-romero               NaN  \n2         gas  alfa-romero               NaN  \n3         gas         audi             164.0  \n4         gas         audi             164.0  \n..        ...          ...               ...  \n200       gas        volvo              95.0  \n201       gas        volvo              95.0  \n202       gas        volvo              95.0  \n203    diesel        volvo              95.0  \n204       gas        volvo              95.0  \n\n[205 rows x 25 columns]",
      "text/html": "<div>\n<style scoped>\n    .dataframe tbody tr th:only-of-type {\n        vertical-align: middle;\n    }\n\n    .dataframe tbody tr th {\n        vertical-align: top;\n    }\n\n    .dataframe thead th {\n        text-align: right;\n    }\n</style>\n<table border=\"1\" class=\"dataframe\">\n  <thead>\n    <tr style=\"text-align: right;\">\n      <th></th>\n      <th>price</th>\n      <th>highway-mpg</th>\n      <th>city-mpg</th>\n      <th>peak-rpm</th>\n      <th>horsepower</th>\n      <th>compression-ratio</th>\n      <th>stroke</th>\n      <th>bore</th>\n      <th>fuel-system</th>\n      <th>engine-size</th>\n      <th>...</th>\n      <th>length</th>\n      <th>wheel-base</th>\n      <th>engine-location</th>\n      <th>drive-wheels</th>\n      <th>body-style</th>\n      <th>num-of-doors</th>\n      <th>aspiration</th>\n      <th>fuel-type</th>\n      <th>make</th>\n      <th>normalized-losses</th>\n    </tr>\n  </thead>\n  <tbody>\n    <tr>\n      <th>0</th>\n      <td>13495.0</td>\n      <td>27</td>\n      <td>21</td>\n      <td>5000.0</td>\n      <td>111.0</td>\n      <td>9.0</td>\n      <td>2.68</td>\n      <td>3.47</td>\n      <td>mpfi</td>\n      <td>130</td>\n      <td>...</td>\n      <td>168.8</td>\n      <td>88.6</td>\n      <td>front</td>\n      <td>rwd</td>\n      <td>convertible</td>\n      <td>2.0</td>\n      <td>std</td>\n      <td>gas</td>\n      <td>alfa-romero</td>\n      <td>NaN</td>\n    </tr>\n    <tr>\n      <th>1</th>\n      <td>16500.0</td>\n      <td>27</td>\n      <td>21</td>\n      <td>5000.0</td>\n      <td>111.0</td>\n      <td>9.0</td>\n      <td>2.68</td>\n      <td>3.47</td>\n      <td>mpfi</td>\n      <td>130</td>\n      <td>...</td>\n      <td>168.8</td>\n      <td>88.6</td>\n      <td>front</td>\n      <td>rwd</td>\n      <td>convertible</td>\n      <td>2.0</td>\n      <td>std</td>\n      <td>gas</td>\n      <td>alfa-romero</td>\n      <td>NaN</td>\n    </tr>\n    <tr>\n      <th>2</th>\n      <td>16500.0</td>\n      <td>26</td>\n      <td>19</td>\n      <td>5000.0</td>\n      <td>154.0</td>\n      <td>9.0</td>\n      <td>3.47</td>\n      <td>2.68</td>\n      <td>mpfi</td>\n      <td>152</td>\n      <td>...</td>\n      <td>171.2</td>\n      <td>94.5</td>\n      <td>front</td>\n      <td>rwd</td>\n      <td>hatchback</td>\n      <td>2.0</td>\n      <td>std</td>\n      <td>gas</td>\n      <td>alfa-romero</td>\n      <td>NaN</td>\n    </tr>\n    <tr>\n      <th>3</th>\n      <td>13950.0</td>\n      <td>30</td>\n      <td>24</td>\n      <td>5500.0</td>\n      <td>102.0</td>\n      <td>10.0</td>\n      <td>3.40</td>\n      <td>3.19</td>\n      <td>mpfi</td>\n      <td>109</td>\n      <td>...</td>\n      <td>176.6</td>\n      <td>99.8</td>\n      <td>front</td>\n      <td>fwd</td>\n      <td>sedan</td>\n      <td>4.0</td>\n      <td>std</td>\n      <td>gas</td>\n      <td>audi</td>\n      <td>164.0</td>\n    </tr>\n    <tr>\n      <th>4</th>\n      <td>17450.0</td>\n      <td>22</td>\n      <td>18</td>\n      <td>5500.0</td>\n      <td>115.0</td>\n      <td>8.0</td>\n      <td>3.40</td>\n      <td>3.19</td>\n      <td>mpfi</td>\n      <td>136</td>\n      <td>...</td>\n      <td>176.6</td>\n      <td>99.4</td>\n      <td>front</td>\n      <td>4wd</td>\n      <td>sedan</td>\n      <td>4.0</td>\n      <td>std</td>\n      <td>gas</td>\n      <td>audi</td>\n      <td>164.0</td>\n    </tr>\n    <tr>\n      <th>...</th>\n      <td>...</td>\n      <td>...</td>\n      <td>...</td>\n      <td>...</td>\n      <td>...</td>\n      <td>...</td>\n      <td>...</td>\n      <td>...</td>\n      <td>...</td>\n      <td>...</td>\n      <td>...</td>\n      <td>...</td>\n      <td>...</td>\n      <td>...</td>\n      <td>...</td>\n      <td>...</td>\n      <td>...</td>\n      <td>...</td>\n      <td>...</td>\n      <td>...</td>\n      <td>...</td>\n    </tr>\n    <tr>\n      <th>200</th>\n      <td>16845.0</td>\n      <td>28</td>\n      <td>23</td>\n      <td>5400.0</td>\n      <td>114.0</td>\n      <td>9.5</td>\n      <td>3.15</td>\n      <td>3.78</td>\n      <td>mpfi</td>\n      <td>141</td>\n      <td>...</td>\n      <td>188.8</td>\n      <td>109.1</td>\n      <td>front</td>\n      <td>rwd</td>\n      <td>sedan</td>\n      <td>4.0</td>\n      <td>std</td>\n      <td>gas</td>\n      <td>volvo</td>\n      <td>95.0</td>\n    </tr>\n    <tr>\n      <th>201</th>\n      <td>19045.0</td>\n      <td>25</td>\n      <td>19</td>\n      <td>5300.0</td>\n      <td>160.0</td>\n      <td>8.7</td>\n      <td>3.15</td>\n      <td>3.78</td>\n      <td>mpfi</td>\n      <td>141</td>\n      <td>...</td>\n      <td>188.8</td>\n      <td>109.1</td>\n      <td>front</td>\n      <td>rwd</td>\n      <td>sedan</td>\n      <td>4.0</td>\n      <td>turbo</td>\n      <td>gas</td>\n      <td>volvo</td>\n      <td>95.0</td>\n    </tr>\n    <tr>\n      <th>202</th>\n      <td>21485.0</td>\n      <td>23</td>\n      <td>18</td>\n      <td>5500.0</td>\n      <td>134.0</td>\n      <td>8.8</td>\n      <td>2.87</td>\n      <td>3.58</td>\n      <td>mpfi</td>\n      <td>173</td>\n      <td>...</td>\n      <td>188.8</td>\n      <td>109.1</td>\n      <td>front</td>\n      <td>rwd</td>\n      <td>sedan</td>\n      <td>4.0</td>\n      <td>std</td>\n      <td>gas</td>\n      <td>volvo</td>\n      <td>95.0</td>\n    </tr>\n    <tr>\n      <th>203</th>\n      <td>22470.0</td>\n      <td>27</td>\n      <td>26</td>\n      <td>4800.0</td>\n      <td>106.0</td>\n      <td>23.0</td>\n      <td>3.40</td>\n      <td>3.01</td>\n      <td>idi</td>\n      <td>145</td>\n      <td>...</td>\n      <td>188.8</td>\n      <td>109.1</td>\n      <td>front</td>\n      <td>rwd</td>\n      <td>sedan</td>\n      <td>4.0</td>\n      <td>turbo</td>\n      <td>diesel</td>\n      <td>volvo</td>\n      <td>95.0</td>\n    </tr>\n    <tr>\n      <th>204</th>\n      <td>22625.0</td>\n      <td>25</td>\n      <td>19</td>\n      <td>5400.0</td>\n      <td>114.0</td>\n      <td>9.5</td>\n      <td>3.15</td>\n      <td>3.78</td>\n      <td>mpfi</td>\n      <td>141</td>\n      <td>...</td>\n      <td>188.8</td>\n      <td>109.1</td>\n      <td>front</td>\n      <td>rwd</td>\n      <td>sedan</td>\n      <td>4.0</td>\n      <td>turbo</td>\n      <td>gas</td>\n      <td>volvo</td>\n      <td>95.0</td>\n    </tr>\n  </tbody>\n</table>\n<p>205 rows × 25 columns</p>\n</div>"
     },
     "execution_count": 33,
     "metadata": {},
     "output_type": "execute_result"
    }
   ],
   "source": [
    "auto "
   ],
   "metadata": {
    "collapsed": false,
    "ExecuteTime": {
     "end_time": "2024-01-22T18:13:32.265685810Z",
     "start_time": "2024-01-22T18:13:32.253610911Z"
    }
   },
   "id": "30b5dc4967e188ec",
   "execution_count": 33
  },
  {
   "cell_type": "code",
   "outputs": [],
   "source": [],
   "metadata": {
    "collapsed": false
   },
   "id": "1991f8f05363faeb"
  }
 ],
 "metadata": {
  "kernelspec": {
   "display_name": "Python 3 (ipykernel)",
   "language": "python",
   "name": "python3"
  },
  "language_info": {
   "codemirror_mode": {
    "name": "ipython",
    "version": 3
   },
   "file_extension": ".py",
   "mimetype": "text/x-python",
   "name": "python",
   "nbconvert_exporter": "python",
   "pygments_lexer": "ipython3",
   "version": "3.11.4"
  }
 },
 "nbformat": 4,
 "nbformat_minor": 5
}
